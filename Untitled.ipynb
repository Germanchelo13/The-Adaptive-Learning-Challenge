{
 "cells": [
  {
   "cell_type": "code",
   "execution_count": 1,
   "id": "a7373d57-4810-45ab-a9b3-8fed3cfc9163",
   "metadata": {},
   "outputs": [],
   "source": [
    "import pandas as pd\n",
    "import numpy as np\n",
    "import sklearn\n",
    "import sklearn.model_selection #import train_test_split\n",
    "import sklearn.ensemble  #  .RandomForestClassifier"
   ]
  },
  {
   "cell_type": "code",
   "execution_count": 11,
   "id": "a5e7f4d5-387c-430a-a0f9-fdd9031005bf",
   "metadata": {},
   "outputs": [
    {
     "name": "stderr",
     "output_type": "stream",
     "text": [
      "C:\\Users\\German\\AppData\\Local\\Temp\\ipykernel_8044\\1277246125.py:1: DtypeWarning: Columns (9,10,12) have mixed types. Specify dtype option on import or set low_memory=False.\n",
      "  data_model=pd.read_csv(\"Dataset_model.csv\")\n"
     ]
    }
   ],
   "source": [
    "data_model=pd.read_csv(\"Dataset_model.csv\")\n",
    "subjects_question=pd.read_csv('subjects_questions.csv')"
   ]
  },
  {
   "cell_type": "code",
   "execution_count": 38,
   "id": "b0e24c59-2c28-46f4-9021-d1fbfbbd3ce0",
   "metadata": {},
   "outputs": [],
   "source": [
    "x=np.log(data_model.groupby(\"row\")[\"acertou\"].sum())/20000"
   ]
  },
  {
   "cell_type": "code",
   "execution_count": 39,
   "id": "e5eaa434-c8e9-4020-96e1-30564a492905",
   "metadata": {},
   "outputs": [
    {
     "data": {
      "text/plain": [
       "<AxesSubplot:xlabel='row'>"
      ]
     },
     "execution_count": 39,
     "metadata": {},
     "output_type": "execute_result"
    },
    {
     "data": {
      "image/png": "[encoded data removed]",
      "text/plain": [
       "<Figure size 432x288 with 1 Axes>"
      ]
     },
     "metadata": {
      "needs_background": "light"
     },
     "output_type": "display_data"
    }
   ],
   "source": [
    "x.plot()"
   ]
  },
  {
   "cell_type": "code",
   "execution_count": 18,
   "id": "72b4c161-31a1-4eef-a467-d8b5fbabf555",
   "metadata": {},
   "outputs": [],
   "source": [
    "submit=pd.read_csv(\"Submit.csv\",sep=\";\")"
   ]
  },
  {
   "cell_type": "code",
   "execution_count": 46,
   "id": "88fd882b-7785-47ab-ac0c-d36fbf2ad4de",
   "metadata": {},
   "outputs": [
    {
     "data": {
      "text/plain": [
       "20000.0"
      ]
     },
     "execution_count": 46,
     "metadata": {},
     "output_type": "execute_result"
    }
   ],
   "source": [
    "data_model.shape[0]/100"
   ]
  },
  {
   "cell_type": "code",
   "execution_count": 47,
   "id": "0cb7e959-367d-4588-b2b2-af8e54f0c9ca",
   "metadata": {},
   "outputs": [
    {
     "data": {
      "text/plain": [
       "20000"
      ]
     },
     "execution_count": 47,
     "metadata": {},
     "output_type": "execute_result"
    }
   ],
   "source": [
    "submit.shape[0]"
   ]
  },
  {
   "cell_type": "code",
   "execution_count": 16,
   "id": "faeabf35-d91e-4982-aedb-dd5f12fa1e82",
   "metadata": {},
   "outputs": [
    {
     "data": {
      "text/plain": [
       "9526"
      ]
     },
     "execution_count": 16,
     "metadata": {},
     "output_type": "execute_result"
    }
   ],
   "source": [
    "subjects_question.subject_id.nunique()"
   ]
  },
  {
   "cell_type": "code",
   "execution_count": 26,
   "id": "ecf868a2-3512-4e6a-8004-0df798ec2f9e",
   "metadata": {},
   "outputs": [
    {
     "data": {
      "text/plain": [
       "18618"
      ]
     },
     "execution_count": 26,
     "metadata": {},
     "output_type": "execute_result"
    }
   ],
   "source": [
    "submit.novo_question_id.nunique()"
   ]
  },
  {
   "cell_type": "code",
   "execution_count": 10,
   "id": "6ae3c065-015f-40b3-b21c-c4418b6cfd93",
   "metadata": {},
   "outputs": [
    {
     "data": {
      "text/plain": [
       "row  acertou\n",
       "99   1          13418\n",
       "92   1          13387\n",
       "97   1          13361\n",
       "93   1          13352\n",
       "96   1          13343\n",
       "                ...  \n",
       "     0           6657\n",
       "93   0           6648\n",
       "97   0           6639\n",
       "92   0           6613\n",
       "99   0           6582\n",
       "Length: 200, dtype: int64"
      ]
     },
     "execution_count": 10,
     "metadata": {},
     "output_type": "execute_result"
    }
   ],
   "source": [
    "data_model[[\"row\",\"acertou\"]].value_counts()"
   ]
  }
 ],
 "metadata": {
  "kernelspec": {
   "display_name": "Python 3 (ipykernel)",
   "language": "python",
   "name": "python3"
  },
  "language_info": {
   "codemirror_mode": {
    "name": "ipython",
    "version": 3
   },
   "file_extension": ".py",
   "mimetype": "text/x-python",
   "name": "python",
   "nbconvert_exporter": "python",
   "pygments_lexer": "ipython3",
   "version": "3.9.12"
  }
 },
 "nbformat": 4,
 "nbformat_minor": 5
}
